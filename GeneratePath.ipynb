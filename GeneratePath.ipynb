{
  "nbformat": 4,
  "nbformat_minor": 0,
  "metadata": {
    "colab": {
      "name": "GeneratePath.ipynb",
      "version": "0.3.2",
      "provenance": [],
      "collapsed_sections": [],
      "include_colab_link": true
    },
    "kernelspec": {
      "name": "python3",
      "display_name": "Python 3"
    }
  },
  "cells": [
    {
      "cell_type": "markdown",
      "metadata": {
        "id": "view-in-github",
        "colab_type": "text"
      },
      "source": [
        "<a href=\"https://colab.research.google.com/github/ZeshanGIT/Style/blob/master/GeneratePath.ipynb\" target=\"_parent\"><img src=\"https://colab.research.google.com/assets/colab-badge.svg\" alt=\"Open In Colab\"/></a>"
      ]
    },
    {
      "cell_type": "code",
      "metadata": {
        "id": "70gNky8nepcd",
        "colab_type": "code",
        "colab": {}
      },
      "source": [
        "import random\n",
        "import numpy"
      ],
      "execution_count": 0,
      "outputs": []
    },
    {
      "cell_type": "code",
      "metadata": {
        "id": "8jhKM4bSit7L",
        "colab_type": "code",
        "outputId": "61d90727-7fbf-44c0-d1df-dfa2287e8d10",
        "colab": {
          "base_uri": "https://localhost:8080/",
          "height": 615
        }
      },
      "source": [
        "x = int(input(\"X: \") or 10)\n",
        "y = int(input(\"Y: \") or 10)\n",
        "noo = int(input(\"Number of obstacles: \") or 10)\n",
        "nop = int(input(\"Number of paths: \") or 10)\n",
        "mapXY = numpy.zeros(x*y,dtype=int)\n",
        "for i in range(noo):\n",
        "  mapXY[i] = 1\n",
        "\n",
        "while mapXY[0]==1 or mapXY[x*y-1]==1:\n",
        "  random.shuffle(mapXY)\n",
        "mapXY = mapXY.reshape((x,y))\n",
        "print(mapXY)\n",
        "mapXY = [numpy.ones(x,dtype=int)] + [mapXY] + [numpy.ones(x,dtype=int)]\n",
        "\n",
        "\n",
        "# mapXY.insert()\n",
        "# mapXY = numpy.array(mapXY).ravel()\n",
        "# mapXY = mapXY.reshape((x+2,y+2))\n",
        "print(mapXY)\n",
        "for i in range(y):\n",
        "  mapXY[i] = mapXY[i].insert(0,1)\n",
        "print(mapXY)"
      ],
      "execution_count": 0,
      "outputs": [
        {
          "output_type": "stream",
          "text": [
            "X: \n",
            "Y: \n",
            "Number of obstacles: \n",
            "Number of paths: \n",
            "[[0 0 0 0 0 0 0 0 0 0]\n",
            " [0 0 0 1 0 0 0 0 0 1]\n",
            " [0 0 0 0 0 0 0 0 0 0]\n",
            " [0 0 0 0 0 0 0 0 0 0]\n",
            " [0 0 0 0 0 0 0 0 1 0]\n",
            " [0 0 0 0 0 0 1 0 0 1]\n",
            " [0 0 0 0 0 0 1 0 0 0]\n",
            " [1 0 0 0 0 0 0 0 0 0]\n",
            " [0 0 0 1 0 0 1 0 0 0]\n",
            " [0 1 0 0 0 0 0 0 0 0]]\n",
            "[array([1, 1, 1, 1, 1, 1, 1, 1, 1, 1]), array([[0, 0, 0, 0, 0, 0, 0, 0, 0, 0],\n",
            "       [0, 0, 0, 1, 0, 0, 0, 0, 0, 1],\n",
            "       [0, 0, 0, 0, 0, 0, 0, 0, 0, 0],\n",
            "       [0, 0, 0, 0, 0, 0, 0, 0, 0, 0],\n",
            "       [0, 0, 0, 0, 0, 0, 0, 0, 1, 0],\n",
            "       [0, 0, 0, 0, 0, 0, 1, 0, 0, 1],\n",
            "       [0, 0, 0, 0, 0, 0, 1, 0, 0, 0],\n",
            "       [1, 0, 0, 0, 0, 0, 0, 0, 0, 0],\n",
            "       [0, 0, 0, 1, 0, 0, 1, 0, 0, 0],\n",
            "       [0, 1, 0, 0, 0, 0, 0, 0, 0, 0]]), array([1, 1, 1, 1, 1, 1, 1, 1, 1, 1])]\n"
          ],
          "name": "stdout"
        },
        {
          "output_type": "error",
          "ename": "AttributeError",
          "evalue": "ignored",
          "traceback": [
            "\u001b[0;31m---------------------------------------------------------------------------\u001b[0m",
            "\u001b[0;31mAttributeError\u001b[0m                            Traceback (most recent call last)",
            "\u001b[0;32m<ipython-input-147-52a8b8f70a83>\u001b[0m in \u001b[0;36m<module>\u001b[0;34m()\u001b[0m\n\u001b[1;32m     19\u001b[0m \u001b[0mprint\u001b[0m\u001b[0;34m(\u001b[0m\u001b[0mmapXY\u001b[0m\u001b[0;34m)\u001b[0m\u001b[0;34m\u001b[0m\u001b[0;34m\u001b[0m\u001b[0m\n\u001b[1;32m     20\u001b[0m \u001b[0;32mfor\u001b[0m \u001b[0mi\u001b[0m \u001b[0;32min\u001b[0m \u001b[0mrange\u001b[0m\u001b[0;34m(\u001b[0m\u001b[0my\u001b[0m\u001b[0;34m)\u001b[0m\u001b[0;34m:\u001b[0m\u001b[0;34m\u001b[0m\u001b[0;34m\u001b[0m\u001b[0m\n\u001b[0;32m---> 21\u001b[0;31m   \u001b[0mmapXY\u001b[0m\u001b[0;34m[\u001b[0m\u001b[0mi\u001b[0m\u001b[0;34m]\u001b[0m \u001b[0;34m=\u001b[0m \u001b[0mmapXY\u001b[0m\u001b[0;34m[\u001b[0m\u001b[0mi\u001b[0m\u001b[0;34m]\u001b[0m\u001b[0;34m.\u001b[0m\u001b[0minsert\u001b[0m\u001b[0;34m(\u001b[0m\u001b[0;36m0\u001b[0m\u001b[0;34m,\u001b[0m\u001b[0;36m1\u001b[0m\u001b[0;34m)\u001b[0m\u001b[0;34m\u001b[0m\u001b[0;34m\u001b[0m\u001b[0m\n\u001b[0m\u001b[1;32m     22\u001b[0m \u001b[0mprint\u001b[0m\u001b[0;34m(\u001b[0m\u001b[0mmapXY\u001b[0m\u001b[0;34m)\u001b[0m\u001b[0;34m\u001b[0m\u001b[0;34m\u001b[0m\u001b[0m\n",
            "\u001b[0;31mAttributeError\u001b[0m: 'numpy.ndarray' object has no attribute 'insert'"
          ]
        }
      ]
    },
    {
      "cell_type": "code",
      "metadata": {
        "id": "FU6_VvHeqY5s",
        "colab_type": "code",
        "colab": {}
      },
      "source": [
        "paths = []"
      ],
      "execution_count": 0,
      "outputs": []
    },
    {
      "cell_type": "code",
      "metadata": {
        "id": "ho5G4opvriMG",
        "colab_type": "code",
        "outputId": "2cb5977c-4997-4442-90a0-fa22bcd82695",
        "colab": {
          "base_uri": "https://localhost:8080/",
          "height": 353
        }
      },
      "source": [
        "for i in range(nop):\n",
        "  path = [[0,0]]\n",
        "  node = [0,0]\n",
        "  tempnode = f(node)\n",
        "  while mapXY[tempnode[0],tempnode[1]] == 1:\n",
        "    tempnode = f(node)\n",
        "    if :\n",
        "    path.append(node)\n",
        "    \n",
        "  print(node)\n",
        "  print(path)\n",
        "  paths.append(path)"
      ],
      "execution_count": 0,
      "outputs": [
        {
          "output_type": "stream",
          "text": [
            "[1 0]\n",
            "[[0, 0]]\n",
            "[0 1]\n",
            "[[0, 0]]\n",
            "[1 0]\n",
            "[[0, 0]]\n",
            "[0 1]\n",
            "[[0, 0]]\n",
            "[1 1]\n",
            "[[0, 0]]\n",
            "[1 0]\n",
            "[[0, 0]]\n",
            "[1 1]\n",
            "[[0, 0]]\n",
            "[1 0]\n",
            "[[0, 0]]\n",
            "[1 0]\n",
            "[[0, 0]]\n",
            "[1 1]\n",
            "[[0, 0]]\n"
          ],
          "name": "stdout"
        }
      ]
    },
    {
      "cell_type": "code",
      "metadata": {
        "id": "XTBHM6PRsP_I",
        "colab_type": "code",
        "colab": {}
      },
      "source": [
        "def f(p): \n",
        "  return {\n",
        "      '0': numpy.add(p,[0,1]),\n",
        "      '1': numpy.add(p,[1,0]),\n",
        "      '2': numpy.add(p,[1,1])\n",
        "  }[str(random.randint(0,2))]"
      ],
      "execution_count": 0,
      "outputs": []
    },
    {
      "cell_type": "code",
      "metadata": {
        "id": "ZH89yUVKs8Qh",
        "colab_type": "code",
        "colab": {}
      },
      "source": [
        "class node:\n",
        "#   x = y = 0\n",
        "  def __init__(self,x,y):\n",
        "    self.x = x\n",
        "    self.y = y\n",
        "    self.nextNode = list()\n",
        "    if(x != X or y != Y):\n",
        "      print(\"X: \", x, \"\\nY: \", y)\n",
        "      cond = x<X and mapXY[x+1][y] != 1\n",
        "      print(\"Cond1 : \\n\", \"\\tx : \", x, \"\\tx : \", y, \"\\tCond  : \",  cond)\n",
        "      if(cond):\n",
        "        self.nextNode.append(node(x+1,y))\n",
        "      cond  = x<X and y<Y and mapXY[x+1][y+1] != 1 \n",
        "      print(\"Cond2 : \\n\", \"\\tx : \", x, \"\\tx : \", y, \"\\tCond  : \",  cond)\n",
        "      if(cond):\n",
        "        self.nextNode.append(node(x+1,y+1))\n",
        "      cond = y<Y and mapXY[x][y+1] != 1\n",
        "      print(\"Cond3 : \\n\", \"\\tx : \", x, \"\\tx : \", y, \"\\tCond  : \",  cond)\n",
        "      if(cond):\n",
        "        self.nextNode.append(node(x,y+1))\n",
        "      print(self.nextNode)\n",
        "    else:\n",
        "      print(\"Last Node !\")\n",
        "      self.nextNode = 0\n",
        "  \n",
        "  def __str__(self):\n",
        "    return str(self.x) + \"\\t\" + str(self.y) + \"\\n\"\n",
        "  #+ \"lastNode\" if self.nextNode == 0 else [str(x) for x in self.nextNode]\n",
        "    "
      ],
      "execution_count": 0,
      "outputs": []
    },
    {
      "cell_type": "code",
      "metadata": {
        "id": "VKhZRz-3ysTA",
        "colab_type": "code",
        "outputId": "bf2e0d0e-5050-446c-d93f-db374c001e85",
        "colab": {
          "base_uri": "https://localhost:8080/",
          "height": 3041
        }
      },
      "source": [
        "n = 0\n",
        "n = node(0,0)"
      ],
      "execution_count": 0,
      "outputs": [
        {
          "output_type": "stream",
          "text": [
            "X:  0 \n",
            "Y:  0\n",
            "Cond1 : \n",
            " \tx :  0 \tx :  0 \tCond  :  True\n",
            "X:  1 \n",
            "Y:  0\n",
            "Cond1 : \n",
            " \tx :  1 \tx :  0 \tCond  :  True\n",
            "X:  2 \n",
            "Y:  0\n",
            "Cond1 : \n",
            " \tx :  2 \tx :  0 \tCond  :  False\n",
            "Cond2 : \n",
            " \tx :  2 \tx :  0 \tCond  :  False\n",
            "Cond3 : \n",
            " \tx :  2 \tx :  0 \tCond  :  True\n",
            "X:  2 \n",
            "Y:  1\n",
            "Cond1 : \n",
            " \tx :  2 \tx :  1 \tCond  :  False\n",
            "Cond2 : \n",
            " \tx :  2 \tx :  1 \tCond  :  False\n",
            "Cond3 : \n",
            " \tx :  2 \tx :  1 \tCond  :  True\n",
            "Last Node !\n",
            "[<__main__.node object at 0x7f9ceef41518>]\n",
            "[<__main__.node object at 0x7f9ceeff6898>]\n",
            "Cond2 : \n",
            " \tx :  1 \tx :  0 \tCond  :  True\n",
            "X:  2 \n",
            "Y:  1\n",
            "Cond1 : \n",
            " \tx :  2 \tx :  1 \tCond  :  False\n",
            "Cond2 : \n",
            " \tx :  2 \tx :  1 \tCond  :  False\n",
            "Cond3 : \n",
            " \tx :  2 \tx :  1 \tCond  :  True\n",
            "Last Node !\n",
            "[<__main__.node object at 0x7f9ceeee2588>]\n",
            "Cond3 : \n",
            " \tx :  1 \tx :  0 \tCond  :  True\n",
            "X:  1 \n",
            "Y:  1\n",
            "Cond1 : \n",
            " \tx :  1 \tx :  1 \tCond  :  True\n",
            "X:  2 \n",
            "Y:  1\n",
            "Cond1 : \n",
            " \tx :  2 \tx :  1 \tCond  :  False\n",
            "Cond2 : \n",
            " \tx :  2 \tx :  1 \tCond  :  False\n",
            "Cond3 : \n",
            " \tx :  2 \tx :  1 \tCond  :  True\n",
            "Last Node !\n",
            "[<__main__.node object at 0x7f9ceef2a550>]\n",
            "Cond2 : \n",
            " \tx :  1 \tx :  1 \tCond  :  True\n",
            "Last Node !\n",
            "Cond3 : \n",
            " \tx :  1 \tx :  1 \tCond  :  True\n",
            "X:  1 \n",
            "Y:  2\n",
            "Cond1 : \n",
            " \tx :  1 \tx :  2 \tCond  :  True\n",
            "Last Node !\n",
            "Cond2 : \n",
            " \tx :  1 \tx :  2 \tCond  :  False\n",
            "Cond3 : \n",
            " \tx :  1 \tx :  2 \tCond  :  False\n",
            "[<__main__.node object at 0x7f9ceef2dc18>]\n",
            "[<__main__.node object at 0x7f9ceef0ec88>, <__main__.node object at 0x7f9ceef2a208>, <__main__.node object at 0x7f9ceeff6f28>]\n",
            "[<__main__.node object at 0x7f9d05705d30>, <__main__.node object at 0x7f9ceef0e2e8>, <__main__.node object at 0x7f9ceeee2a20>]\n",
            "Cond2 : \n",
            " \tx :  0 \tx :  0 \tCond  :  True\n",
            "X:  1 \n",
            "Y:  1\n",
            "Cond1 : \n",
            " \tx :  1 \tx :  1 \tCond  :  True\n",
            "X:  2 \n",
            "Y:  1\n",
            "Cond1 : \n",
            " \tx :  2 \tx :  1 \tCond  :  False\n",
            "Cond2 : \n",
            " \tx :  2 \tx :  1 \tCond  :  False\n",
            "Cond3 : \n",
            " \tx :  2 \tx :  1 \tCond  :  True\n",
            "Last Node !\n",
            "[<__main__.node object at 0x7f9ceef1ff28>]\n",
            "Cond2 : \n",
            " \tx :  1 \tx :  1 \tCond  :  True\n",
            "Last Node !\n",
            "Cond3 : \n",
            " \tx :  1 \tx :  1 \tCond  :  True\n",
            "X:  1 \n",
            "Y:  2\n",
            "Cond1 : \n",
            " \tx :  1 \tx :  2 \tCond  :  True\n",
            "Last Node !\n",
            "Cond2 : \n",
            " \tx :  1 \tx :  2 \tCond  :  False\n",
            "Cond3 : \n",
            " \tx :  1 \tx :  2 \tCond  :  False\n",
            "[<__main__.node object at 0x7f9ceef2d898>]\n",
            "[<__main__.node object at 0x7f9ceef0e048>, <__main__.node object at 0x7f9ceef2d7b8>, <__main__.node object at 0x7f9ceef2df98>]\n",
            "Cond3 : \n",
            " \tx :  0 \tx :  0 \tCond  :  True\n",
            "X:  0 \n",
            "Y:  1\n",
            "Cond1 : \n",
            " \tx :  0 \tx :  1 \tCond  :  True\n",
            "X:  1 \n",
            "Y:  1\n",
            "Cond1 : \n",
            " \tx :  1 \tx :  1 \tCond  :  True\n",
            "X:  2 \n",
            "Y:  1\n",
            "Cond1 : \n",
            " \tx :  2 \tx :  1 \tCond  :  False\n",
            "Cond2 : \n",
            " \tx :  2 \tx :  1 \tCond  :  False\n",
            "Cond3 : \n",
            " \tx :  2 \tx :  1 \tCond  :  True\n",
            "Last Node !\n",
            "[<__main__.node object at 0x7f9ceef436d8>]\n",
            "Cond2 : \n",
            " \tx :  1 \tx :  1 \tCond  :  True\n",
            "Last Node !\n",
            "Cond3 : \n",
            " \tx :  1 \tx :  1 \tCond  :  True\n",
            "X:  1 \n",
            "Y:  2\n",
            "Cond1 : \n",
            " \tx :  1 \tx :  2 \tCond  :  True\n",
            "Last Node !\n",
            "Cond2 : \n",
            " \tx :  1 \tx :  2 \tCond  :  False\n",
            "Cond3 : \n",
            " \tx :  1 \tx :  2 \tCond  :  False\n",
            "[<__main__.node object at 0x7f9ceef2aba8>]\n",
            "[<__main__.node object at 0x7f9ceef2a2b0>, <__main__.node object at 0x7f9ceefddcc0>, <__main__.node object at 0x7f9ceef2acc0>]\n",
            "Cond2 : \n",
            " \tx :  0 \tx :  1 \tCond  :  True\n",
            "X:  1 \n",
            "Y:  2\n",
            "Cond1 : \n",
            " \tx :  1 \tx :  2 \tCond  :  True\n",
            "Last Node !\n",
            "Cond2 : \n",
            " \tx :  1 \tx :  2 \tCond  :  False\n",
            "Cond3 : \n",
            " \tx :  1 \tx :  2 \tCond  :  False\n",
            "[<__main__.node object at 0x7f9ceef0e630>]\n",
            "Cond3 : \n",
            " \tx :  0 \tx :  1 \tCond  :  True\n",
            "X:  0 \n",
            "Y:  2\n",
            "Cond1 : \n",
            " \tx :  0 \tx :  2 \tCond  :  True\n",
            "X:  1 \n",
            "Y:  2\n",
            "Cond1 : \n",
            " \tx :  1 \tx :  2 \tCond  :  True\n",
            "Last Node !\n",
            "Cond2 : \n",
            " \tx :  1 \tx :  2 \tCond  :  False\n",
            "Cond3 : \n",
            " \tx :  1 \tx :  2 \tCond  :  False\n",
            "[<__main__.node object at 0x7f9ceef0eb70>]\n",
            "Cond2 : \n",
            " \tx :  0 \tx :  2 \tCond  :  False\n",
            "Cond3 : \n",
            " \tx :  0 \tx :  2 \tCond  :  False\n",
            "[<__main__.node object at 0x7f9ceef0e5f8>]\n",
            "[<__main__.node object at 0x7f9ceeff6fd0>, <__main__.node object at 0x7f9ceeee2ef0>, <__main__.node object at 0x7f9ceef0e7f0>]\n",
            "[<__main__.node object at 0x7f9ceef366a0>, <__main__.node object at 0x7f9ceeee2278>, <__main__.node object at 0x7f9ceeff6860>]\n"
          ],
          "name": "stdout"
        }
      ]
    },
    {
      "cell_type": "code",
      "metadata": {
        "id": "QMneCswr0ML8",
        "colab_type": "code",
        "outputId": "40c014f2-e217-4fa7-ff74-f28c073bd855",
        "colab": {
          "base_uri": "https://localhost:8080/",
          "height": 34
        }
      },
      "source": [
        "X = 2\n",
        "Y = 2\n",
        "mapXY = [[0,0,0],[0,0,0],[0,0,0]]\n",
        "print(mapXY,X,Y)"
      ],
      "execution_count": 0,
      "outputs": [
        {
          "output_type": "stream",
          "text": [
            "[[0, 0, 0], [0, 0, 0], [0, 0, 0]] 2 2\n"
          ],
          "name": "stdout"
        }
      ]
    },
    {
      "cell_type": "code",
      "metadata": {
        "colab_type": "code",
        "id": "7bQ0csuZdTEd",
        "outputId": "2ae7974e-708b-4b8c-e792-9ad81d49866d",
        "colab": {
          "base_uri": "https://localhost:8080/",
          "height": 34
        }
      },
      "source": [
        "paths = list()\n",
        "paths.append([n])\n",
        "print(paths)\n",
        "for i in range(len(n.nextNode)-1):\n",
        "  paths.append(paths[0])"
      ],
      "execution_count": 0,
      "outputs": [
        {
          "output_type": "stream",
          "text": [
            "[[<__main__.node object at 0x7f9ceef410b8>]]\n"
          ],
          "name": "stdout"
        }
      ]
    },
    {
      "cell_type": "code",
      "metadata": {
        "id": "d4Oy4pfBkytG",
        "colab_type": "code",
        "outputId": "47997798-50a8-4bca-f944-fd4925904e10",
        "colab": {
          "base_uri": "https://localhost:8080/",
          "height": 34
        }
      },
      "source": [
        "print([i for i in paths])"
      ],
      "execution_count": 0,
      "outputs": [
        {
          "output_type": "stream",
          "text": [
            "[[<__main__.node object at 0x7f9ceef410b8>], [<__main__.node object at 0x7f9ceef410b8>], [<__main__.node object at 0x7f9ceef410b8>]]\n"
          ],
          "name": "stdout"
        }
      ]
    },
    {
      "cell_type": "code",
      "metadata": {
        "id": "VG_TvypGjyo0",
        "colab_type": "code",
        "colab": {}
      },
      "source": [
        ""
      ],
      "execution_count": 0,
      "outputs": []
    }
  ]
}